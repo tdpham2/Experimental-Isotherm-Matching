{
 "cells": [
  {
   "cell_type": "code",
   "execution_count": 1,
   "id": "f05312e1",
   "metadata": {},
   "outputs": [],
   "source": [
    "from pydantic import BaseModel, Field\n",
    "from langchain_openai import ChatOpenAI\n",
    "import os, json, sys\n",
    "\n",
    "class MOFCrystalData(BaseModel):\n",
    "    \"\"\"Formatted response for crystal structure from an LLM \"\"\"\n",
    "    \n",
    "    a: float = Field(default=0, description=\"The cell parameter a in Angstrom\")\n",
    "    b: float = Field(default=0, description=\"The cell parameter b in Angstrom\")\n",
    "    c: float = Field(default=0, description=\"The cell parameter c in Angstrom\")\n",
    "    alpha: float = Field(default=0, description=\"The angle alpha in degree\")\n",
    "    beta: float = Field(default=0, description=\"The angle beta in degree\")\n",
    "    gamma: float = Field(default=0, description=\"The angle gamma in degree\")\n",
    "    ccdc_number: str = Field(default=\"\", description=\"The CCDC number of the material\")\n",
    "\n",
    "class MOFDataExtractor:\n",
    "    def __init__(self,model_name=\"gpt-4o-mini\",api_key=None,temperature=0):\n",
    "        llm = ChatOpenAI(model=model_name, temperature=temperature, api_key=api_key)\n",
    "        self.llm = llm\n",
    "\n",
    "    def run(self, query, system_prompt=None):\n",
    "        \"\"\"\n",
    "        Run the MOFDataExtractor with a query and optional system prompt.\n",
    "\n",
    "        Args:\n",
    "            query (str): The user query.\n",
    "            system_prompt (str, optional): The system-level instruction to guide the LLM behavior.\n",
    "\n",
    "        Returns:\n",
    "            dict: The structured output from the LLM.\n",
    "        \"\"\"\n",
    "        structured_llm = self.llm.with_structured_output(MOFCrystalData)\n",
    "\n",
    "        # Create the messages with optional system prompt\n",
    "        messages = []\n",
    "        if system_prompt:\n",
    "            messages.append({\"role\": \"system\", \"content\": system_prompt})\n",
    "        messages.append({\"role\": \"user\", \"content\": query})\n",
    "\n",
    "        # Invoke the structured LLM with messages\n",
    "        response = structured_llm.invoke(messages)\n",
    "        return response\n"
   ]
  },
  {
   "cell_type": "code",
   "execution_count": 12,
   "id": "0cf0afe2",
   "metadata": {},
   "outputs": [
    {
     "name": "stdout",
     "output_type": "stream",
     "text": [
      "NU-700\n",
      "MOF-143\n",
      "['NU-700', 'MOF-143']\n"
     ]
    }
   ],
   "source": [
    "\"\"\"\n",
    "Script to extract crystallographic data from PDF text files using LLM.\n",
    "\n",
    "This script processes DOIs from command line arguments, reads associated isotherm files,\n",
    "and extracts crystallographic information for each adsorbent using the MOFDataExtractor.\n",
    "The extracted data is saved as JSON files.\n",
    "\"\"\"\n",
    "sys_prompt = \"You are an expert in extracting crystallographic information about metal-organic frameworks (MOFs). Provide accurate and concise answers based solely on the provided information. Do not include prior-knowledge or speculative details in your response. If the text does not contain the crystallographic information of the material inquired, return the cell parameters as [0,0,0,0,0,0].\"\n",
    "\n",
    "mof_data_extractor = MOFDataExtractor()\n",
    "dois = [\"10.1039c4cc09212k\"]\n",
    "#basepath = '/home/tdpham/Dropbox/Northwestern/work/Experimental_isotherm_project/OpenAI/steps/automated_steps/convert_pdf_to_txt/batch3'\n",
    "basepath = '/home/tdpham/Dropbox/Northwestern/work/Experimental_isotherm_project/OpenAI/scripts/convert_pdf_to_text'\n",
    "isodb_path = '/home/tdpham/Dropbox/Northwestern/work/Experimental_isotherm_project/OpenAI/steps/1_match_by_DOIs/csd/'\n",
    "\n",
    "for doi in dois:\n",
    "    if os.path.isdir(doi):\n",
    "        continue\n",
    "    try:\n",
    "        isotherms = os.listdir(os.path.join(isodb_path, doi))\n",
    "    except FileNotFoundError:\n",
    "        print(f\"Missing {os.path.join(isodb_path, doi)}\")\n",
    "        continue\n",
    "    # Get adsorbent name\n",
    "    isotherms = [i for i in isotherms if '.cif' not in i]\n",
    "    adsorbents = []\n",
    "    for iso in isotherms:\n",
    "        isopath = os.path.join(isodb_path, doi, iso)\n",
    "        with open(isopath, 'r') as f:\n",
    "            iso_data = json.load(f)\n",
    "\n",
    "        adsorbent = iso_data[\"adsorbent\"][\"name\"]\n",
    "        if adsorbent not in adsorbents:\n",
    "            adsorbents.append(adsorbent)\n",
    "    # Get text from pdf\n",
    "    with open(os.path.join(basepath, doi, 'combined_text.txt'), 'r') as f:\n",
    "        text = f.read()\n",
    "\n",
    "    for ida, adsorbent in enumerate(adsorbents):\n",
    "        print(adsorbent)\n",
    "        task_prompt = f\"Analyze the attached text, which contains information about metal-organic frameworks and answer the following questions:\\n1. What is the crystal data of {adsorbent}?\\n We are interested in the cell lengths (a, b and c) and cell angles (alpha, beta and gamma). This information is often mentioned in the crystallographic data section. If the text did not mention a certain parameter, infer it from the crystal system, or point group.\\n2. What is the CCDC number of {adsorbent}? \\n\\n{text}\\n\\\"\"\n",
    "        cte = MOFDataExtractor()\n",
    "        task_output = cte.run(task_prompt)\n",
    "\n",
    "        with open(f\"{adsorbent}.json\", \"w\") as f:\n",
    "            json.dump(task_output.model_dump(), f)\n",
    "    print(adsorbents)"
   ]
  },
  {
   "cell_type": "code",
   "execution_count": null,
   "id": "33ca8223",
   "metadata": {},
   "outputs": [],
   "source": []
  },
  {
   "cell_type": "code",
   "execution_count": null,
   "id": "b9e35d22",
   "metadata": {},
   "outputs": [],
   "source": []
  }
 ],
 "metadata": {
  "kernelspec": {
   "display_name": "Python [conda env:exp_isotherm]",
   "language": "python",
   "name": "conda-env-exp_isotherm-py"
  },
  "language_info": {
   "codemirror_mode": {
    "name": "ipython",
    "version": 3
   },
   "file_extension": ".py",
   "mimetype": "text/x-python",
   "name": "python",
   "nbconvert_exporter": "python",
   "pygments_lexer": "ipython3",
   "version": "3.10.16"
  }
 },
 "nbformat": 4,
 "nbformat_minor": 5
}
